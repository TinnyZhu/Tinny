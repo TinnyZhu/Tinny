{
 "cells": [
  {
   "cell_type": "markdown",
   "metadata": {},
   "source": [
    "(1) Go back to the COVID-19 dataset from https://github.com/nytimes/covid-19-data (tutorial 2, problem 5). Extract and plot the same data as before, but now using `pandas`.\n",
    "\n",
    "Next, use `pandas` to create dataframes of the number of cases in all states on a certain day. Plot a horizontal bar grpah to show this. Pick another day and plot this data on top of the previous one to visualize the difference between these two days on the same figure."
   ]
  },
  {
   "cell_type": "code",
   "execution_count": 1,
   "metadata": {},
   "outputs": [
    {
     "data": {
      "image/png": "[encoded data removed]",
      "text/plain": [
       "<Figure size 432x288 with 1 Axes>"
      ]
     },
     "metadata": {
      "needs_background": "light"
     },
     "output_type": "display_data"
    }
   ],
   "source": [
    "import pandas as pd\n",
    "import matplotlib.pyplot as plt\n",
    "\n",
    "# read file\n",
    "mydata=pd.read_csv(\"us-states.csv\")\n",
    "\n",
    "# new dataframe with dates only\n",
    "days=mydata['date']\n",
    "\n",
    "# new dataframe for cases only when date is the one specified, notice double equal to for comparison\n",
    "March01cases=mydata[days=='2020-03-01']\n",
    "\n",
    "# barh as in tutorial, here we an pick which row of the data frame to the x and y axis\n",
    "# try removing the y-axis to plot all information on that row in dataframe\n",
    "March01cases.plot.barh(x='state',y='cases')\n",
    "\n",
    "plt.show()\n",
    "\n",
    "# to plot another data set, repeat with another date\n",
    "# to plot together, create a dataframe with both sets and plot that"
   ]
  },
  {
   "cell_type": "markdown",
   "metadata": {},
   "source": [
    "(2a,b,c) As described in the tutorial text, create packaged functions for Gauss elimination with and without pivoting, and the Gauss-Jordan elimination. These functions should take an $n \\times n$ matrix and an $n \\times 1$ column vector as input, and give the solution to the linear system as output.\n",
    "\n",
    "Some linear systems have no solution or infinite solutions (recall Cramer's rule from linear algebra). How would you check for these cases and prevent a singular solution?"
   ]
  },
  {
   "cell_type": "code",
   "execution_count": 16,
   "metadata": {},
   "outputs": [],
   "source": [
    "# Gauss without pivot\n",
    "\n",
    "# create a function Gauss(A,b)\n",
    "# input A: n x n matrix\n",
    "# input b: n x 1 column vector\n",
    "# return as output: n x 1 column vector solution of system Ax=b\n",
    "\n",
    "import numpy as np\n",
    "def Gauss(A,b):\n",
    "    n=len(b)\n",
    "    Aug=np.hstack((A,b))\n",
    "\n",
    "    for i in range(n-1):\n",
    "        for j in range(i+1,n):\n",
    "            if Aug[j,i]!=0.:\n",
    "                mult=-Aug[j,i]/Aug[i,i]\n",
    "                Aug[j,:]+=mult*Aug[i,:]\n",
    "    \n",
    "    for i in range(n-1,-1,-1):\n",
    "        for j in range(i+1,n):\n",
    "            Aug[i,-1]-=Aug[i,j]*Aug[j,-1]\n",
    "        Aug[i,-1]/=Aug[i,i]\n",
    "    \n",
    "    return np.reshape(Aug[:,-1],(n,1))\n",
    "\n",
    "\n",
    "# to check for no or infinite solutions, calculate determinant as well (problem 5), and print an error message\n",
    "# if determinant is zero"
   ]
  },
  {
   "cell_type": "code",
   "execution_count": 2,
   "metadata": {},
   "outputs": [],
   "source": [
    "# Gauss with pivot\n",
    "\n",
    "# create a function GaussPiv(A,b)\n",
    "# input A: n x n matrix\n",
    "# input b: n x 1 column vector\n",
    "# return as output: n x 1 column vector solution of system Ax=b\n",
    "# must use a pivot row swap if diagonal entry is 0\n",
    "\n",
    "\n",
    "import numpy as np\n",
    "def GaussPiv(A,b):\n",
    "    n=len(b)\n",
    "    Aug=np.hstack((A,b))\n",
    "\n",
    "    for i in range(n-1):\n",
    "        if Aug[i,i]==0:\n",
    "            for j in range(i+1,n):\n",
    "                if Aug[j,i]!=0:\n",
    "                    Aug[[i,j]]=Aug[[j,i]]\n",
    "                    break # emergency exit, so the swap only happens once\n",
    "        \n",
    "        for j in range(i+1,n):\n",
    "            if Aug[j,i]!=0.:\n",
    "                mult=-Aug[j,i]/Aug[i,i]\n",
    "                Aug[j,:]+=mult*Aug[i,:]\n",
    "\n",
    "    for i in range(n-1,-1,-1):\n",
    "        for j in range(i+1,n):\n",
    "            Aug[i,-1]-=Aug[i,j]*Aug[j,-1]\n",
    "        Aug[i,-1]/=Aug[i,i]\n",
    "    \n",
    "    return np.reshape(Aug[:,-1],(n,1))"
   ]
  },
  {
   "cell_type": "code",
   "execution_count": 3,
   "metadata": {},
   "outputs": [],
   "source": [
    "# Gauss-Jordan\n",
    "\n",
    "# creates a function GaussJ(A,b) for Gauss-Jordan elimination\n",
    "# input A: n x n matrix\n",
    "# input b: n x 1 column vector\n",
    "# return as output: n x 1 column vector solution of system Ax=b\n",
    "# must use a pivot row swap if diagonal entry is 0\n",
    "\n",
    "import numpy as np\n",
    "def GaussJ(A,b):\n",
    "    n=len(b)\n",
    "    Aug=np.hstack((A,b))\n",
    "\n",
    "    for i in range(n): # loop to n, so last row is also used as pivot\n",
    "        if Aug[i,i]==0:\n",
    "            for j in range(i+1,n):\n",
    "                if Aug[j,i]!=0:\n",
    "                    Aug[[i,j]]=Aug[[j,i]]\n",
    "                    break\n",
    "        \n",
    "        for j in [m for m in range(n) if m!=i]: # short hand to skip over i\n",
    "            if Aug[j,i]!=0.:\n",
    "                mult=-Aug[j,i]/Aug[i,i]\n",
    "                Aug[j,:]+=mult*Aug[i,:]\n",
    "        \n",
    "        Aug[i,:]/=Aug[i,i] # normalize (think why that's OK to do at end and not beginning)\n",
    "    \n",
    "    return np.reshape(Aug[:,-1],(n,1))"
   ]
  },
  {
   "cell_type": "markdown",
   "metadata": {},
   "source": [
    "(3) A common matrix type that comes up in solving boundary-value problems (week 9/10) are banded systems. These matrices only have terms along specific diagonal 'bands'. The simplest is the [tridiagonal matrix](https://en.wikipedia.org/wiki/Tridiagonal_matrix), in which the only non-zero entries are along the main diagonal and the adjacent diagonal lines:\n",
    "$$\\begin{bmatrix} t_{00} & t_{01} &  &  & \\\\ t_{10}& t_{11} & t_{12} & &  \\\\ & t_{21} & \\ddots &\\ddots& \\\\& & \\ddots & \\ddots &t_{n-2,n-1} \\\\& &  & t_{n-1,n-2} &t_{n-1,n-1}\\end{bmatrix} \\begin{bmatrix} x_0 \\\\ x_1 \\\\ .\\\\.\\\\.\\\\ x_{n-1}  \\end{bmatrix}= \\begin{bmatrix} b_0 \\\\ b_1 \\\\ .\\\\.\\\\.\\\\ b_{n-1}  \\end{bmatrix}$$\n",
    "\n",
    "Running loops through row and columns filled mostly with zeros is inefficient, so adapt the Gauss-Jordan elimination to only have to loop through the three diagonal lines. \n",
    "\n",
    "_Non-coding assignment: Try to roughly estimate the computational cost of such a tridiagonal solver. How much faster would this code ideally be for a $100 \\times 100$ tridiagonal matrix compared to standard Gauss-Jordan elimination_"
   ]
  },
  {
   "cell_type": "code",
   "execution_count": 18,
   "metadata": {},
   "outputs": [],
   "source": [
    "# Tridiag solver, adapting Gauss-Jordan for neighboring element only\n",
    "\n",
    "# see Kiusalaas textbook, page 60"
   ]
  },
  {
   "cell_type": "markdown",
   "metadata": {},
   "source": [
    "(4) How would you evaluate the inverse of a $3\\times 3$ matrix using three calls to the Gauss-Jordan function. Remember that naively calculating the determinant (which is required for the 'standard' method to find the inverse) is computationally expensive. Think about what the definition of the inverse of a matrix and how it relates to the identity matrix. Could you recast this definition as three different linear systems...?"
   ]
  },
  {
   "cell_type": "code",
   "execution_count": 20,
   "metadata": {},
   "outputs": [
    {
     "name": "stdout",
     "output_type": "stream",
     "text": [
      "[[0.33333333 0.16666667 0.        ]\n",
      " [0.16666667 0.41666667 0.16666667]\n",
      " [0.         0.16666667 0.33333333]]\n"
     ]
    }
   ],
   "source": [
    "A=np.array([[4,-2,1],[-2,4,-2],[1,-2,4]],dtype=float)\n",
    "b=np.array([[1],[0],[0]])\n",
    "\n",
    "a1=GaussJ(A,np.array([[1],[0],[0]]))\n",
    "a2=GaussJ(A,np.array([[0],[1],[0]]))\n",
    "a3=GaussJ(A,np.array([[0],[0],[1]]))\n",
    "Ainv=np.hstack((a1,a2))\n",
    "Ainv=np.hstack((Ainv,a3))\n",
    "print(Ainv)"
   ]
  },
  {
   "cell_type": "markdown",
   "metadata": {},
   "source": [
    "(5) Use a simple $3 \\times 3$ matrix to perform every step of the Gauss-Jordan elimination manually, and keep track of how the determinant of the matrix changes with each step. Using this knowledge, how would you code a function that calculates the determinant as you go throught the elimination process?\n",
    "\n",
    "How does row swapping (or pivoting) affect the determinant?\n",
    "\n",
    "Solution: work through a small Gauss elimination and calculate determinant at each stage to see what changes. You will see that each row swap (if pivoted) multiplies the determinant by -1. Each multiplication of a row by a constant multiples the determinant by the same constant. And finally, once in diagonal form, the determinant of a matrix is simply the produc tof diagonal terms. Using this information, we can add the following lines to thje Gauss-Jordan routine from above to modify it into a determinant calculator"
   ]
  },
  {
   "cell_type": "code",
   "execution_count": 4,
   "metadata": {},
   "outputs": [],
   "source": [
    "def my_deter(A):\n",
    "    n=len(A)\n",
    "    detsign=1 #initialize to +1\n",
    "    det=1 #initialize to +1\n",
    "    \n",
    "    for i in range(n): # loop to n, so last row is also used as pivot\n",
    "        if A[i,i]==0:\n",
    "            for j in range(i+1,n):\n",
    "                if A[j,i]!=0:\n",
    "                    A[[i,j]]=A[[j,i]]\n",
    "                    detsign=-1*detsign #change sign every time a row swap happens\n",
    "                    break\n",
    "        \n",
    "        for j in [m for m in range(n) if m!=i]: # short hand to skip over i\n",
    "            if A[j,i]!=0.:\n",
    "                mult=-A[j,i]/A[i,i]\n",
    "                A[j,:]+=mult*A[i,:]\n",
    "        \n",
    "        det*=A[i,i] # multiply diagonals\n",
    "    \n",
    "    return detsign*det"
   ]
  },
  {
   "cell_type": "code",
   "execution_count": 5,
   "metadata": {},
   "outputs": [
    {
     "name": "stdout",
     "output_type": "stream",
     "text": [
      "linalg: 263584.1945786081\n",
      "homemade: 263584.1945786087\n"
     ]
    }
   ],
   "source": [
    "# test against linalg determinant calculator\n",
    "\n",
    "import numpy as np\n",
    "import numpy.linalg as la\n",
    "\n",
    "# generate random matrix\n",
    "A=np.random.uniform(10,5,(10,10))\n",
    "\n",
    "print('linalg:', la.det(A))\n",
    "print('homemade:', my_deter(A))"
   ]
  },
  {
   "cell_type": "code",
   "execution_count": null,
   "metadata": {},
   "outputs": [],
   "source": []
  },
  {
   "cell_type": "code",
   "execution_count": null,
   "metadata": {},
   "outputs": [],
   "source": []
  },
  {
   "cell_type": "code",
   "execution_count": null,
   "metadata": {},
   "outputs": [],
   "source": []
  }
 ],
 "metadata": {
  "kernelspec": {
   "display_name": "Python 3",
   "language": "python",
   "name": "python3"
  },
  "language_info": {
   "codemirror_mode": {
    "name": "ipython",
    "version": 3
   },
   "file_extension": ".py",
   "mimetype": "text/x-python",
   "name": "python",
   "nbconvert_exporter": "python",
   "pygments_lexer": "ipython3",
   "version": "3.7.6"
  }
 },
 "nbformat": 4,
 "nbformat_minor": 4
}
